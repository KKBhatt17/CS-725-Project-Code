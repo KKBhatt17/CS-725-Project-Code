{
 "cells": [
  {
   "cell_type": "code",
   "execution_count": 6,
   "id": "01e3dd11",
   "metadata": {},
   "outputs": [],
   "source": [
    "# imports\n",
    "\n",
    "import pandas as pd\n",
    "import numpy as np\n",
    "from matplotlib import pyplot as plt\n",
    "import seaborn as sns\n",
    "from sklearn.model_selection import KFold\n",
    "import warnings\n",
    "warnings.filterwarnings('ignore')"
   ]
  },
  {
   "cell_type": "code",
   "execution_count": 7,
   "id": "9b6f6dcc",
   "metadata": {},
   "outputs": [],
   "source": [
    "# Function Definitions:\n",
    "\n",
    "def print_accuracy(actual,predicted):\n",
    "    match=0\n",
    "    for i in range(0,len(actual)):\n",
    "        if actual[i]==predicted[i]:\n",
    "            match+=1\n",
    "    accuracy=match/len(actual)\n",
    "    print(\"matches= \",match,\"/\",len(actual),\" accuracy= \",round(accuracy,2))\n",
    "\n",
    "def print_accuracies(actual,predicted):\n",
    "    match=0\n",
    "    for i in range(0,len(actual)):\n",
    "        if actual[i]==predicted[i]:\n",
    "            match+=1\n",
    "    accuracy=match/len(actual)\n",
    "    return accuracy\n",
    "\n",
    "def train_and_evaluate(model):\n",
    "    kf = KFold(n_splits=5,shuffle=True,random_state=None)\n",
    "    i=1\n",
    "    train_accuracies=[]\n",
    "    test_accuracies=[]\n",
    "    for train_index, test_index in kf.split(feature_array):\n",
    "        X_train, X_test = feature_array[train_index], feature_array[test_index]\n",
    "        y_train, y_test = target_label[train_index], target_label[test_index]\n",
    "        \n",
    "        model.fit(X_train, y_train)\n",
    "        \n",
    "        train_predictions=model.predict(X_train)\n",
    "        test_predictions=model.predict(X_test)\n",
    "        \n",
    "        train_accuracy=print_accuracies(y_train,train_predictions)\n",
    "        train_accuracies.append(train_accuracy)\n",
    "        test_accuracy=print_accuracies(y_test,test_predictions)\n",
    "        test_accuracies.append(test_accuracy)\n",
    "        \n",
    "        print(\"\\nFold\",i,\": Train accuracy= \",round(train_accuracy,2),\" Test accuracy= \",round(test_accuracy,2))\n",
    "        i+=1\n",
    "    \n",
    "    print(\"\\nAvg train accuracy= \",round(np.array(train_accuracies).mean(),2))\n",
    "    print(\"Avg test accuracy= \",round(np.array(test_accuracies).mean(),2))"
   ]
  },
  {
   "cell_type": "markdown",
   "id": "1436931e",
   "metadata": {},
   "source": [
    "# Data exploration and feature engineering"
   ]
  },
  {
   "cell_type": "markdown",
   "id": "1ec0e149",
   "metadata": {},
   "source": [
    "## Attributes\n",
    "Age: age of the patient [years]\n",
    "\n",
    "Sex: sex of the patient [M: Male, F: Female]\n",
    "\n",
    "ChestPainType: chest pain type [TA: Typical Angina, ATA: Atypical Angina, NAP: Non-Anginal Pain, ASY: Asymptomatic]\n",
    "\n",
    "RestingBP: resting blood pressure [mm Hg]\n",
    "\n",
    "Cholesterol: serum cholesterol [mm/dl]\n",
    "\n",
    "FastingBS: fasting blood sugar [1: if FastingBS > 120 mg/dl, 0: otherwise]\n",
    "\n",
    "RestingECG: resting electrocardiogram results [Normal: Normal, ST: having ST-T wave abnormality (T wave inversions and/or ST elevation or depression of > 0.05 mV), LVH: showing probable or definite left ventricular hypertrophy by Estes' criteria]\n",
    "\n",
    "MaxHR: maximum heart rate achieved [Numeric value between 60 and 202]\n",
    "\n",
    "ExerciseAngina: exercise-induced angina [Y: Yes, N: No]\n",
    "\n",
    "Oldpeak: oldpeak = ST [Numeric value measured in depression]\n",
    "\n",
    "ST_Slope: the slope of the peak exercise ST segment [Up: upsloping, Flat: flat, Down: downsloping]\n",
    "\n",
    "HeartDisease: output class [1: heart disease, 0: Normal]"
   ]
  },
  {
   "cell_type": "code",
   "execution_count": 8,
   "id": "516e6407",
   "metadata": {},
   "outputs": [
    {
     "data": {
      "text/html": [
       "<div>\n",
       "<style scoped>\n",
       "    .dataframe tbody tr th:only-of-type {\n",
       "        vertical-align: middle;\n",
       "    }\n",
       "\n",
       "    .dataframe tbody tr th {\n",
       "        vertical-align: top;\n",
       "    }\n",
       "\n",
       "    .dataframe thead th {\n",
       "        text-align: right;\n",
       "    }\n",
       "</style>\n",
       "<table border=\"1\" class=\"dataframe\">\n",
       "  <thead>\n",
       "    <tr style=\"text-align: right;\">\n",
       "      <th></th>\n",
       "      <th>Age</th>\n",
       "      <th>Sex</th>\n",
       "      <th>ChestPainType</th>\n",
       "      <th>RestingBP</th>\n",
       "      <th>Cholesterol</th>\n",
       "      <th>FastingBS</th>\n",
       "      <th>RestingECG</th>\n",
       "      <th>MaxHR</th>\n",
       "      <th>ExerciseAngina</th>\n",
       "      <th>Oldpeak</th>\n",
       "      <th>ST_Slope</th>\n",
       "      <th>HeartDisease</th>\n",
       "    </tr>\n",
       "  </thead>\n",
       "  <tbody>\n",
       "    <tr>\n",
       "      <th>0</th>\n",
       "      <td>40</td>\n",
       "      <td>M</td>\n",
       "      <td>ATA</td>\n",
       "      <td>140</td>\n",
       "      <td>289</td>\n",
       "      <td>0</td>\n",
       "      <td>Normal</td>\n",
       "      <td>172</td>\n",
       "      <td>N</td>\n",
       "      <td>0.0</td>\n",
       "      <td>Up</td>\n",
       "      <td>0</td>\n",
       "    </tr>\n",
       "    <tr>\n",
       "      <th>1</th>\n",
       "      <td>49</td>\n",
       "      <td>F</td>\n",
       "      <td>NAP</td>\n",
       "      <td>160</td>\n",
       "      <td>180</td>\n",
       "      <td>0</td>\n",
       "      <td>Normal</td>\n",
       "      <td>156</td>\n",
       "      <td>N</td>\n",
       "      <td>1.0</td>\n",
       "      <td>Flat</td>\n",
       "      <td>1</td>\n",
       "    </tr>\n",
       "    <tr>\n",
       "      <th>2</th>\n",
       "      <td>37</td>\n",
       "      <td>M</td>\n",
       "      <td>ATA</td>\n",
       "      <td>130</td>\n",
       "      <td>283</td>\n",
       "      <td>0</td>\n",
       "      <td>ST</td>\n",
       "      <td>98</td>\n",
       "      <td>N</td>\n",
       "      <td>0.0</td>\n",
       "      <td>Up</td>\n",
       "      <td>0</td>\n",
       "    </tr>\n",
       "    <tr>\n",
       "      <th>3</th>\n",
       "      <td>48</td>\n",
       "      <td>F</td>\n",
       "      <td>ASY</td>\n",
       "      <td>138</td>\n",
       "      <td>214</td>\n",
       "      <td>0</td>\n",
       "      <td>Normal</td>\n",
       "      <td>108</td>\n",
       "      <td>Y</td>\n",
       "      <td>1.5</td>\n",
       "      <td>Flat</td>\n",
       "      <td>1</td>\n",
       "    </tr>\n",
       "    <tr>\n",
       "      <th>4</th>\n",
       "      <td>54</td>\n",
       "      <td>M</td>\n",
       "      <td>NAP</td>\n",
       "      <td>150</td>\n",
       "      <td>195</td>\n",
       "      <td>0</td>\n",
       "      <td>Normal</td>\n",
       "      <td>122</td>\n",
       "      <td>N</td>\n",
       "      <td>0.0</td>\n",
       "      <td>Up</td>\n",
       "      <td>0</td>\n",
       "    </tr>\n",
       "  </tbody>\n",
       "</table>\n",
       "</div>"
      ],
      "text/plain": [
       "   Age Sex ChestPainType  RestingBP  Cholesterol  FastingBS RestingECG  MaxHR  \\\n",
       "0   40   M           ATA        140          289          0     Normal    172   \n",
       "1   49   F           NAP        160          180          0     Normal    156   \n",
       "2   37   M           ATA        130          283          0         ST     98   \n",
       "3   48   F           ASY        138          214          0     Normal    108   \n",
       "4   54   M           NAP        150          195          0     Normal    122   \n",
       "\n",
       "  ExerciseAngina  Oldpeak ST_Slope  HeartDisease  \n",
       "0              N      0.0       Up             0  \n",
       "1              N      1.0     Flat             1  \n",
       "2              N      0.0       Up             0  \n",
       "3              Y      1.5     Flat             1  \n",
       "4              N      0.0       Up             0  "
      ]
     },
     "execution_count": 8,
     "metadata": {},
     "output_type": "execute_result"
    }
   ],
   "source": [
    "dataframe=pd.read_csv(\"heart.csv\")\n",
    "dataframe.head()"
   ]
  },
  {
   "cell_type": "code",
   "execution_count": 4,
   "id": "4a270ebe",
   "metadata": {},
   "outputs": [
    {
     "data": {
      "text/plain": [
       "(918, 12)"
      ]
     },
     "execution_count": 4,
     "metadata": {},
     "output_type": "execute_result"
    }
   ],
   "source": [
    "dataframe.shape"
   ]
  },
  {
   "cell_type": "code",
   "execution_count": 6,
   "id": "d5adaa4f",
   "metadata": {},
   "outputs": [
    {
     "data": {
      "text/plain": [
       "1    508\n",
       "0    410\n",
       "Name: HeartDisease, dtype: int64"
      ]
     },
     "execution_count": 6,
     "metadata": {},
     "output_type": "execute_result"
    }
   ],
   "source": [
    "# checking the ratios for categorical features.\n",
    "dataframe['HeartDisease'].value_counts()     # there is no issue of class imbalance"
   ]
  },
  {
   "cell_type": "code",
   "execution_count": 7,
   "id": "ca9a96f9",
   "metadata": {},
   "outputs": [
    {
     "data": {
      "text/plain": [
       "M    725\n",
       "F    193\n",
       "Name: Sex, dtype: int64"
      ]
     },
     "execution_count": 7,
     "metadata": {},
     "output_type": "execute_result"
    }
   ],
   "source": [
    "dataframe['Sex'].value_counts()"
   ]
  },
  {
   "cell_type": "code",
   "execution_count": 8,
   "id": "ed5566c6",
   "metadata": {},
   "outputs": [
    {
     "data": {
      "text/plain": [
       "ASY    496\n",
       "NAP    203\n",
       "ATA    173\n",
       "TA      46\n",
       "Name: ChestPainType, dtype: int64"
      ]
     },
     "execution_count": 8,
     "metadata": {},
     "output_type": "execute_result"
    }
   ],
   "source": [
    "dataframe['ChestPainType'].value_counts()"
   ]
  },
  {
   "cell_type": "code",
   "execution_count": 9,
   "id": "db9f9d0d",
   "metadata": {},
   "outputs": [
    {
     "data": {
      "text/plain": [
       "Flat    460\n",
       "Up      395\n",
       "Down     63\n",
       "Name: ST_Slope, dtype: int64"
      ]
     },
     "execution_count": 9,
     "metadata": {},
     "output_type": "execute_result"
    }
   ],
   "source": [
    "dataframe['ST_Slope'].value_counts()"
   ]
  },
  {
   "cell_type": "code",
   "execution_count": 9,
   "id": "340ba0d4",
   "metadata": {},
   "outputs": [
    {
     "data": {
      "text/plain": [
       "120    132\n",
       "130    118\n",
       "140    107\n",
       "110     58\n",
       "150     55\n",
       "      ... \n",
       "113      1\n",
       "117      1\n",
       "127      1\n",
       "129      1\n",
       "0        1\n",
       "Name: RestingBP, Length: 67, dtype: int64"
      ]
     },
     "execution_count": 9,
     "metadata": {},
     "output_type": "execute_result"
    }
   ],
   "source": [
    "dataframe['RestingBP'].value_counts()"
   ]
  },
  {
   "cell_type": "code",
   "execution_count": 11,
   "id": "a8721f94",
   "metadata": {},
   "outputs": [
    {
     "data": {
      "text/plain": [
       "N    547\n",
       "Y    371\n",
       "Name: ExerciseAngina, dtype: int64"
      ]
     },
     "execution_count": 11,
     "metadata": {},
     "output_type": "execute_result"
    }
   ],
   "source": [
    "dataframe['ExerciseAngina'].value_counts()"
   ]
  },
  {
   "cell_type": "code",
   "execution_count": 264,
   "id": "cbd95d1f",
   "metadata": {},
   "outputs": [
    {
     "data": {
      "image/png": "[encoded data removed]",
      "text/plain": [
       "<Figure size 1008x504 with 1 Axes>"
      ]
     },
     "metadata": {},
     "output_type": "display_data"
    }
   ],
   "source": [
    "Age_distribution=test_df['Oldpeak'].value_counts()\n",
    "# Age_distribution=df_trans['Age_log'].value_counts()\n",
    "x=Age_distribution.index\n",
    "y=Age_distribution.values\n",
    "plt.figure(figsize=(14,7))\n",
    "plt.bar(x,y)\n",
    "\n",
    "#plt.savefig(\"plot Age before log.jpg\")\n",
    "plt.show()"
   ]
  },
  {
   "cell_type": "code",
   "execution_count": 77,
   "id": "551b0a14",
   "metadata": {},
   "outputs": [
    {
     "data": {
      "text/plain": [
       "<AxesSubplot:xlabel='Oldpeak', ylabel='Density'>"
      ]
     },
     "execution_count": 77,
     "metadata": {},
     "output_type": "execute_result"
    },
    {
     "data": {
      "image/png": "[encoded data removed]",
      "text/plain": [
       "<Figure size 576x360 with 1 Axes>"
      ]
     },
     "metadata": {},
     "output_type": "display_data"
    }
   ],
   "source": [
    "sns.set(rc={'figure.figsize':(8,5)})\n",
    "#sns.boxplot(test_df['Oldpeak'])\n",
    "#plt.hist(dataframe['Age'])\n",
    "sns.distplot(dataframe['Oldpeak'])"
   ]
  },
  {
   "cell_type": "code",
   "execution_count": 85,
   "id": "4f03d5d9",
   "metadata": {},
   "outputs": [
    {
     "name": "stdout",
     "output_type": "stream",
     "text": [
      "1    458\n",
      "0    267\n",
      "Name: HeartDisease, dtype: int64\n",
      "0    143\n",
      "1     50\n",
      "Name: HeartDisease, dtype: int64\n"
     ]
    }
   ],
   "source": [
    "print(dataframe.loc[dataframe['Sex'] == 'M']['HeartDisease'].value_counts())\n",
    "print(dataframe.loc[dataframe['Sex'] == 'F']['HeartDisease'].value_counts())"
   ]
  },
  {
   "cell_type": "code",
   "execution_count": 153,
   "id": "7a1236b1",
   "metadata": {},
   "outputs": [
    {
     "data": {
      "image/png": "[encoded data removed]",
      "text/plain": [
       "<Figure size 720x576 with 1 Axes>"
      ]
     },
     "metadata": {},
     "output_type": "display_data"
    }
   ],
   "source": [
    "x=[2,3,4,4.25,5,6,7,8,10,12,14,20]\n",
    "y=[81,85,87,87,88,90,93,94,97,99,100,100]\n",
    "z=[81,83,84,85,84,84,83,82,81,81,79,79]\n",
    "plt.figure(figsize=(10,8))\n",
    "plt.plot(x,y)\n",
    "plt.plot(x,z)\n",
    "plt.xlabel(\"Value of max_depth parameter\")\n",
    "plt.ylabel(\"Accuracy\")\n",
    "plt.legend(['Train accuracy','Test accuracy'])\n",
    "#plt.savefig(\"accuracy vs Max_depth in DT.jpg\")\n",
    "plt.show()"
   ]
  },
  {
   "cell_type": "markdown",
   "id": "11e95f59",
   "metadata": {},
   "source": [
    "# Feature Engineering"
   ]
  },
  {
   "cell_type": "code",
   "execution_count": 69,
   "id": "567995b5",
   "metadata": {},
   "outputs": [
    {
     "data": {
      "text/plain": [
       "Age               0\n",
       "Sex               0\n",
       "ChestPainType     0\n",
       "RestingBP         0\n",
       "Cholesterol       0\n",
       "FastingBS         0\n",
       "RestingECG        0\n",
       "MaxHR             0\n",
       "ExerciseAngina    0\n",
       "Oldpeak           0\n",
       "ST_Slope          0\n",
       "HeartDisease      0\n",
       "dtype: int64"
      ]
     },
     "execution_count": 69,
     "metadata": {},
     "output_type": "execute_result"
    }
   ],
   "source": [
    "# Checking null values: Imputation\n",
    "dataframe.isnull().sum()"
   ]
  },
  {
   "cell_type": "code",
   "execution_count": 388,
   "id": "3fc7596b",
   "metadata": {},
   "outputs": [
    {
     "data": {
      "text/html": [
       "<div>\n",
       "<style scoped>\n",
       "    .dataframe tbody tr th:only-of-type {\n",
       "        vertical-align: middle;\n",
       "    }\n",
       "\n",
       "    .dataframe tbody tr th {\n",
       "        vertical-align: top;\n",
       "    }\n",
       "\n",
       "    .dataframe thead th {\n",
       "        text-align: right;\n",
       "    }\n",
       "</style>\n",
       "<table border=\"1\" class=\"dataframe\">\n",
       "  <thead>\n",
       "    <tr style=\"text-align: right;\">\n",
       "      <th></th>\n",
       "      <th>RestingBP</th>\n",
       "      <th>Cholesterol</th>\n",
       "      <th>FastingBS</th>\n",
       "      <th>MaxHR</th>\n",
       "      <th>Oldpeak</th>\n",
       "      <th>Sex_F</th>\n",
       "      <th>Sex_M</th>\n",
       "      <th>ChestPainType_ASY</th>\n",
       "      <th>ChestPainType_ATA</th>\n",
       "      <th>ChestPainType_NAP</th>\n",
       "      <th>ChestPainType_TA</th>\n",
       "      <th>RestingECG_LVH</th>\n",
       "      <th>RestingECG_Normal</th>\n",
       "      <th>RestingECG_ST</th>\n",
       "      <th>ExerciseAngina_N</th>\n",
       "      <th>ExerciseAngina_Y</th>\n",
       "      <th>ST_Slope_Down</th>\n",
       "      <th>ST_Slope_Flat</th>\n",
       "      <th>ST_Slope_Up</th>\n",
       "      <th>Age_log</th>\n",
       "    </tr>\n",
       "  </thead>\n",
       "  <tbody>\n",
       "    <tr>\n",
       "      <th>0</th>\n",
       "      <td>140</td>\n",
       "      <td>289</td>\n",
       "      <td>0</td>\n",
       "      <td>172</td>\n",
       "      <td>0.0</td>\n",
       "      <td>0</td>\n",
       "      <td>1</td>\n",
       "      <td>0</td>\n",
       "      <td>1</td>\n",
       "      <td>0</td>\n",
       "      <td>0</td>\n",
       "      <td>0</td>\n",
       "      <td>1</td>\n",
       "      <td>0</td>\n",
       "      <td>1</td>\n",
       "      <td>0</td>\n",
       "      <td>0</td>\n",
       "      <td>0</td>\n",
       "      <td>1</td>\n",
       "      <td>3.688879</td>\n",
       "    </tr>\n",
       "    <tr>\n",
       "      <th>1</th>\n",
       "      <td>160</td>\n",
       "      <td>180</td>\n",
       "      <td>0</td>\n",
       "      <td>156</td>\n",
       "      <td>1.0</td>\n",
       "      <td>1</td>\n",
       "      <td>0</td>\n",
       "      <td>0</td>\n",
       "      <td>0</td>\n",
       "      <td>1</td>\n",
       "      <td>0</td>\n",
       "      <td>0</td>\n",
       "      <td>1</td>\n",
       "      <td>0</td>\n",
       "      <td>1</td>\n",
       "      <td>0</td>\n",
       "      <td>0</td>\n",
       "      <td>1</td>\n",
       "      <td>0</td>\n",
       "      <td>3.891820</td>\n",
       "    </tr>\n",
       "    <tr>\n",
       "      <th>2</th>\n",
       "      <td>130</td>\n",
       "      <td>283</td>\n",
       "      <td>0</td>\n",
       "      <td>98</td>\n",
       "      <td>0.0</td>\n",
       "      <td>0</td>\n",
       "      <td>1</td>\n",
       "      <td>0</td>\n",
       "      <td>1</td>\n",
       "      <td>0</td>\n",
       "      <td>0</td>\n",
       "      <td>0</td>\n",
       "      <td>0</td>\n",
       "      <td>1</td>\n",
       "      <td>1</td>\n",
       "      <td>0</td>\n",
       "      <td>0</td>\n",
       "      <td>0</td>\n",
       "      <td>1</td>\n",
       "      <td>3.610918</td>\n",
       "    </tr>\n",
       "    <tr>\n",
       "      <th>3</th>\n",
       "      <td>138</td>\n",
       "      <td>214</td>\n",
       "      <td>0</td>\n",
       "      <td>108</td>\n",
       "      <td>1.5</td>\n",
       "      <td>1</td>\n",
       "      <td>0</td>\n",
       "      <td>1</td>\n",
       "      <td>0</td>\n",
       "      <td>0</td>\n",
       "      <td>0</td>\n",
       "      <td>0</td>\n",
       "      <td>1</td>\n",
       "      <td>0</td>\n",
       "      <td>0</td>\n",
       "      <td>1</td>\n",
       "      <td>0</td>\n",
       "      <td>1</td>\n",
       "      <td>0</td>\n",
       "      <td>3.871201</td>\n",
       "    </tr>\n",
       "    <tr>\n",
       "      <th>4</th>\n",
       "      <td>150</td>\n",
       "      <td>195</td>\n",
       "      <td>0</td>\n",
       "      <td>122</td>\n",
       "      <td>0.0</td>\n",
       "      <td>0</td>\n",
       "      <td>1</td>\n",
       "      <td>0</td>\n",
       "      <td>0</td>\n",
       "      <td>1</td>\n",
       "      <td>0</td>\n",
       "      <td>0</td>\n",
       "      <td>1</td>\n",
       "      <td>0</td>\n",
       "      <td>1</td>\n",
       "      <td>0</td>\n",
       "      <td>0</td>\n",
       "      <td>0</td>\n",
       "      <td>1</td>\n",
       "      <td>3.988984</td>\n",
       "    </tr>\n",
       "  </tbody>\n",
       "</table>\n",
       "</div>"
      ],
      "text/plain": [
       "   RestingBP  Cholesterol  FastingBS  MaxHR  Oldpeak  Sex_F  Sex_M  \\\n",
       "0        140          289          0    172      0.0      0      1   \n",
       "1        160          180          0    156      1.0      1      0   \n",
       "2        130          283          0     98      0.0      0      1   \n",
       "3        138          214          0    108      1.5      1      0   \n",
       "4        150          195          0    122      0.0      0      1   \n",
       "\n",
       "   ChestPainType_ASY  ChestPainType_ATA  ChestPainType_NAP  ChestPainType_TA  \\\n",
       "0                  0                  1                  0                 0   \n",
       "1                  0                  0                  1                 0   \n",
       "2                  0                  1                  0                 0   \n",
       "3                  1                  0                  0                 0   \n",
       "4                  0                  0                  1                 0   \n",
       "\n",
       "   RestingECG_LVH  RestingECG_Normal  RestingECG_ST  ExerciseAngina_N  \\\n",
       "0               0                  1              0                 1   \n",
       "1               0                  1              0                 1   \n",
       "2               0                  0              1                 1   \n",
       "3               0                  1              0                 0   \n",
       "4               0                  1              0                 1   \n",
       "\n",
       "   ExerciseAngina_Y  ST_Slope_Down  ST_Slope_Flat  ST_Slope_Up   Age_log  \n",
       "0                 0              0              0            1  3.688879  \n",
       "1                 0              0              1            0  3.891820  \n",
       "2                 0              0              0            1  3.610918  \n",
       "3                 1              0              1            0  3.871201  \n",
       "4                 0              0              0            1  3.988984  "
      ]
     },
     "execution_count": 388,
     "metadata": {},
     "output_type": "execute_result"
    }
   ],
   "source": [
    "# log transform\n",
    "df_trans=dataframe_new.copy()\n",
    "df_trans['Age_log'] = np.log(df_trans['Age'])\n",
    "df_trans.drop('Age', axis=1, inplace=True)\n",
    "df_trans.head()"
   ]
  },
  {
   "cell_type": "code",
   "execution_count": 487,
   "id": "376240da",
   "metadata": {},
   "outputs": [
    {
     "name": "stdout",
     "output_type": "stream",
     "text": [
      "[0.42857143 0.82926829 0.29320988 0.         0.67605634 0.5\n",
      " 1.         0.         0.         0.         1.         0.\n",
      " 0.         1.         0.         1.         0.         0.\n",
      " 1.         0.        ]\n"
     ]
    }
   ],
   "source": [
    "# Feature Scaling\n",
    "\n",
    "from sklearn.preprocessing import MinMaxScaler, RobustScaler, StandardScaler\n",
    "test_df2=test_df.copy()\n",
    "scaler = MinMaxScaler()\n",
    "scaled = scaler.fit_transform(test_df2)\n",
    "print(scaled[1])\n",
    "feature_array=scaled"
   ]
  },
  {
   "cell_type": "code",
   "execution_count": 13,
   "id": "324ace86",
   "metadata": {},
   "outputs": [
    {
     "data": {
      "text/plain": [
       "(918, 20)"
      ]
     },
     "execution_count": 13,
     "metadata": {},
     "output_type": "execute_result"
    }
   ],
   "source": [
    "# Removing outliers\n",
    "\n",
    "test_df=dataframe_new.copy()\n",
    "test_df['Cholesterol'] = test_df['Cholesterol'].mask(test_df['Cholesterol'] < 1, 237)\n",
    "test_df['Cholesterol'] = test_df['Cholesterol'].mask(test_df['Cholesterol'] > 410, 237)\n",
    "test_df['RestingBP'] = test_df['RestingBP'].mask(test_df['RestingBP'] < 85, 130)\n",
    "test_df['RestingBP'] = test_df['RestingBP'].mask(test_df['RestingBP'] > 175, 130)\n",
    "test_df['Oldpeak'] = test_df['Oldpeak'].mask(test_df['Oldpeak'] < -2, 0.6)\n",
    "test_df['Oldpeak'] = test_df['Oldpeak'].mask(test_df['Oldpeak'] > 4, 0.6)\n",
    "test_df.shape"
   ]
  },
  {
   "cell_type": "code",
   "execution_count": 239,
   "id": "3b17bf8a",
   "metadata": {},
   "outputs": [
    {
     "data": {
      "text/plain": [
       "(918, 9)"
      ]
     },
     "execution_count": 239,
     "metadata": {},
     "output_type": "execute_result"
    }
   ],
   "source": [
    "# Removing less important features:\n",
    "test_df1=test_df.copy()\n",
    "flist=['Sex_F','RestingBP','Sex_M','ChestPainType_ATA','FastingBS','ChestPainType_NAP','RestingECG_LVH','ST_Slope_Down','RestingECG_Normal','ChestPainType_TA','RestingECG_ST']\n",
    "test_df1.drop(flist, axis=1, inplace=True)\n",
    "test_df1.shape"
   ]
  },
  {
   "cell_type": "markdown",
   "id": "b12368a4",
   "metadata": {},
   "source": [
    "# Creating dummies/OHVs and Feature/Target arrays."
   ]
  },
  {
   "cell_type": "code",
   "execution_count": 12,
   "id": "5bc657c5",
   "metadata": {},
   "outputs": [
    {
     "data": {
      "text/plain": [
       "(918, 20)"
      ]
     },
     "execution_count": 12,
     "metadata": {},
     "output_type": "execute_result"
    }
   ],
   "source": [
    "# creating one hot dummies for categorical features:\n",
    "\n",
    "features = ['Age','Sex','ChestPainType','RestingBP','Cholesterol','FastingBS','RestingECG','MaxHR','ExerciseAngina','Oldpeak','ST_Slope']\n",
    "dataframe_new= pd.get_dummies(dataframe[features])\n",
    "dataframe_new.shape"
   ]
  },
  {
   "cell_type": "code",
   "execution_count": 14,
   "id": "21032190",
   "metadata": {},
   "outputs": [
    {
     "data": {
      "text/plain": [
       "(918, 20)"
      ]
     },
     "execution_count": 14,
     "metadata": {},
     "output_type": "execute_result"
    }
   ],
   "source": [
    "# feature_array\n",
    "feature_array = np.array(test_df)\n",
    "feature_array.shape"
   ]
  },
  {
   "cell_type": "code",
   "execution_count": 15,
   "id": "6eec0f96",
   "metadata": {},
   "outputs": [
    {
     "data": {
      "text/plain": [
       "(918, 1)"
      ]
     },
     "execution_count": 15,
     "metadata": {},
     "output_type": "execute_result"
    }
   ],
   "source": [
    "# target array\n",
    "target_label=np.array(dataframe[['HeartDisease']])\n",
    "target_label.shape"
   ]
  },
  {
   "cell_type": "code",
   "execution_count": 16,
   "id": "3f31a939",
   "metadata": {},
   "outputs": [],
   "source": [
    "# train-test split\n",
    "from sklearn.model_selection import train_test_split\n",
    "train_feature_array, test_feature_array, train_labels, test_labels = train_test_split(feature_array, target_label, test_size = 0.25, shuffle=True)"
   ]
  },
  {
   "cell_type": "markdown",
   "id": "8240defe",
   "metadata": {},
   "source": [
    "# Classification using a Support Vector Machine"
   ]
  },
  {
   "cell_type": "code",
   "execution_count": 114,
   "id": "abfe4038",
   "metadata": {},
   "outputs": [
    {
     "data": {
      "text/plain": [
       "SVC(C=1, kernel='linear', random_state=42)"
      ]
     },
     "execution_count": 114,
     "metadata": {},
     "output_type": "execute_result"
    }
   ],
   "source": [
    "from sklearn.svm import SVC  \n",
    "# clf = SVC(kernel='linear')   we can also try kernel=\"rbf\" \n",
    "clf = SVC(kernel='linear',C=1,random_state=42)    #clf = svm.SVC(kernel='linear', C=1, random_state=42)\n",
    "clf"
   ]
  },
  {
   "cell_type": "code",
   "execution_count": 115,
   "id": "0d5e4bf5",
   "metadata": {},
   "outputs": [
    {
     "name": "stdout",
     "output_type": "stream",
     "text": [
      "\n",
      "Fold 1 : Train accuracy=  0.87  Test accuracy=  0.86\n",
      "\n",
      "Fold 2 : Train accuracy=  0.87  Test accuracy=  0.84\n",
      "\n",
      "Fold 3 : Train accuracy=  0.87  Test accuracy=  0.87\n",
      "\n",
      "Fold 4 : Train accuracy=  0.86  Test accuracy=  0.87\n",
      "\n",
      "Fold 5 : Train accuracy=  0.87  Test accuracy=  0.85\n",
      "\n",
      "Avg train accuracy=  0.87\n",
      "Avg test accuracy=  0.86\n"
     ]
    }
   ],
   "source": [
    "# train and evaluate using 5 fold cross validation.\n",
    "train_and_evaluate(clf)"
   ]
  },
  {
   "cell_type": "code",
   "execution_count": 105,
   "id": "08cf51ba",
   "metadata": {},
   "outputs": [
    {
     "data": {
      "text/plain": [
       "SVC(C=25, kernel='linear', random_state=42)"
      ]
     },
     "execution_count": 105,
     "metadata": {},
     "output_type": "execute_result"
    }
   ],
   "source": [
    "# train and test without 5 fold cross validation.\n",
    "clf.fit(train_feature_array, train_labels)"
   ]
  },
  {
   "cell_type": "code",
   "execution_count": 106,
   "id": "ec02debf",
   "metadata": {},
   "outputs": [],
   "source": [
    "train_predictions=clf.predict(train_feature_array)\n",
    "test_predictions=clf.predict(test_feature_array)"
   ]
  },
  {
   "cell_type": "code",
   "execution_count": 107,
   "id": "1741909d",
   "metadata": {},
   "outputs": [
    {
     "name": "stdout",
     "output_type": "stream",
     "text": [
      "Train: matches=  593 / 688  accuracy=  0.86\n",
      "Test: matches=  199 / 230  accuracy=  0.87\n"
     ]
    }
   ],
   "source": [
    "print(\"Train: \",end=\"\")\n",
    "print_accuracy(train_labels,train_predictions)\n",
    "print(\"Test: \",end=\"\")\n",
    "print_accuracy(test_labels,test_predictions)"
   ]
  },
  {
   "cell_type": "markdown",
   "id": "8311452a",
   "metadata": {},
   "source": [
    "# Using Random Forest Classifier"
   ]
  },
  {
   "cell_type": "code",
   "execution_count": 100,
   "id": "aacdeaa4",
   "metadata": {},
   "outputs": [
    {
     "data": {
      "text/plain": [
       "RandomForestClassifier(max_depth=25, random_state=1)"
      ]
     },
     "execution_count": 100,
     "metadata": {},
     "output_type": "execute_result"
    }
   ],
   "source": [
    "from sklearn.ensemble import RandomForestClassifier\n",
    "# rf_clf = RandomForestClassifier(n_estimators=100, max_depth=5, random_state=5)\n",
    "rf_clf = RandomForestClassifier(n_estimators=100, max_depth=25, random_state=1)  # 39,8.5\n",
    "rf_clf"
   ]
  },
  {
   "cell_type": "code",
   "execution_count": 101,
   "id": "91949310",
   "metadata": {},
   "outputs": [
    {
     "name": "stdout",
     "output_type": "stream",
     "text": [
      "\n",
      "Fold 1 : Train accuracy=  1.0  Test accuracy=  0.84\n",
      "\n",
      "Fold 2 : Train accuracy=  1.0  Test accuracy=  0.82\n",
      "\n",
      "Fold 3 : Train accuracy=  1.0  Test accuracy=  0.9\n",
      "\n",
      "Fold 4 : Train accuracy=  1.0  Test accuracy=  0.89\n",
      "\n",
      "Fold 5 : Train accuracy=  1.0  Test accuracy=  0.91\n",
      "\n",
      "Avg train accuracy=  1.0\n",
      "Avg test accuracy=  0.87\n"
     ]
    }
   ],
   "source": [
    "# train and evaluate using 5 fold cross validation.\n",
    "train_and_evaluate(rf_clf)"
   ]
  },
  {
   "cell_type": "code",
   "execution_count": 59,
   "id": "402cba0d",
   "metadata": {},
   "outputs": [
    {
     "data": {
      "text/plain": [
       "RandomForestClassifier(max_depth=8.5, n_estimators=39)"
      ]
     },
     "execution_count": 59,
     "metadata": {},
     "output_type": "execute_result"
    }
   ],
   "source": [
    "rf_clf.fit(train_feature_array, train_labels)"
   ]
  },
  {
   "cell_type": "code",
   "execution_count": 85,
   "id": "6da4be3b",
   "metadata": {},
   "outputs": [],
   "source": [
    "train_predictions=rf_clf.predict(train_feature_array)\n",
    "test_predictions=rf_clf.predict(test_feature_array)"
   ]
  },
  {
   "cell_type": "code",
   "execution_count": 86,
   "id": "68fe2a0e",
   "metadata": {},
   "outputs": [
    {
     "name": "stdout",
     "output_type": "stream",
     "text": [
      "Train: matches=  654 / 688  accuracy=  0.95\n",
      "Test: matches=  214 / 230  accuracy=  0.93\n"
     ]
    }
   ],
   "source": [
    "print(\"Train: \",end=\"\")\n",
    "print_accuracy(train_labels,train_predictions)\n",
    "print(\"Test: \",end=\"\")\n",
    "print_accuracy(test_labels,test_predictions)"
   ]
  },
  {
   "cell_type": "code",
   "execution_count": 87,
   "id": "9fd1d07f",
   "metadata": {},
   "outputs": [
    {
     "data": {
      "text/plain": [
       "array([[0.14130084, 0.85869916],\n",
       "       [0.05441024, 0.94558976],\n",
       "       [0.04282917, 0.95717083],\n",
       "       [0.96340931, 0.03659069],\n",
       "       [0.11716195, 0.88283805],\n",
       "       [0.97956005, 0.02043995],\n",
       "       [0.89177859, 0.10822141],\n",
       "       [0.12207694, 0.87792306],\n",
       "       [0.18279515, 0.81720485],\n",
       "       [0.0668859 , 0.9331141 ]])"
      ]
     },
     "execution_count": 87,
     "metadata": {},
     "output_type": "execute_result"
    }
   ],
   "source": [
    "rf_clf.predict_proba(test_feature_array)[:10]"
   ]
  },
  {
   "cell_type": "markdown",
   "id": "756b62b7",
   "metadata": {},
   "source": [
    "# Using Decision Tree Classifier"
   ]
  },
  {
   "cell_type": "code",
   "execution_count": 150,
   "id": "a9d4c386",
   "metadata": {},
   "outputs": [
    {
     "data": {
      "text/plain": [
       "DecisionTreeClassifier(max_depth=4.25, splitter='random')"
      ]
     },
     "execution_count": 150,
     "metadata": {},
     "output_type": "execute_result"
    }
   ],
   "source": [
    "from sklearn import tree\n",
    "dt_clf=tree.DecisionTreeClassifier(max_depth=4.25,random_state=None,splitter='random')  #max_depth=4.25\n",
    "dt_clf"
   ]
  },
  {
   "cell_type": "code",
   "execution_count": 151,
   "id": "1b53197d",
   "metadata": {},
   "outputs": [
    {
     "name": "stdout",
     "output_type": "stream",
     "text": [
      "\n",
      "Fold 1 : Train accuracy=  0.87  Test accuracy=  0.85\n",
      "\n",
      "Fold 2 : Train accuracy=  0.86  Test accuracy=  0.82\n",
      "\n",
      "Fold 3 : Train accuracy=  0.87  Test accuracy=  0.86\n",
      "\n",
      "Fold 4 : Train accuracy=  0.87  Test accuracy=  0.85\n",
      "\n",
      "Fold 5 : Train accuracy=  0.87  Test accuracy=  0.85\n",
      "\n",
      "Avg train accuracy=  0.87\n",
      "Avg test accuracy=  0.85\n"
     ]
    }
   ],
   "source": [
    "# train and evaluate using 5 fold cross validation.\n",
    "train_and_evaluate(dt_clf)"
   ]
  },
  {
   "cell_type": "code",
   "execution_count": 442,
   "id": "9f57c153",
   "metadata": {},
   "outputs": [
    {
     "data": {
      "text/plain": [
       "DecisionTreeClassifier()"
      ]
     },
     "execution_count": 442,
     "metadata": {},
     "output_type": "execute_result"
    }
   ],
   "source": [
    "dt_clf.fit(train_feature_array, train_labels)"
   ]
  },
  {
   "cell_type": "code",
   "execution_count": 444,
   "id": "24a483da",
   "metadata": {},
   "outputs": [],
   "source": [
    "train_predictions=dt_clf.predict(train_feature_array)\n",
    "test_predictions=dt_clf.predict(test_feature_array)"
   ]
  },
  {
   "cell_type": "code",
   "execution_count": 445,
   "id": "9af6c018",
   "metadata": {},
   "outputs": [
    {
     "name": "stdout",
     "output_type": "stream",
     "text": [
      "Train: matches=  1377 / 1377  accuracy=  1.0\n",
      "Test: matches=  439 / 459  accuracy=  0.96\n"
     ]
    }
   ],
   "source": [
    "print(\"Train: \",end=\"\")\n",
    "print_accuracy(train_labels,train_predictions)\n",
    "print(\"Test: \",end=\"\")\n",
    "print_accuracy(test_labels,test_predictions)"
   ]
  },
  {
   "cell_type": "markdown",
   "id": "61f4cd95",
   "metadata": {},
   "source": [
    "# Using Logistic Regression Classifier"
   ]
  },
  {
   "cell_type": "code",
   "execution_count": 256,
   "id": "a3bccd9c",
   "metadata": {},
   "outputs": [
    {
     "data": {
      "text/plain": [
       "LogisticRegression(random_state=0)"
      ]
     },
     "execution_count": 256,
     "metadata": {},
     "output_type": "execute_result"
    }
   ],
   "source": [
    "# Can be used because it is a binary classification task.\n",
    "\n",
    "from sklearn.linear_model import LogisticRegression\n",
    "lr_clf = LogisticRegression(random_state=0)\n",
    "lr_clf"
   ]
  },
  {
   "cell_type": "code",
   "execution_count": 257,
   "id": "cb80f17b",
   "metadata": {},
   "outputs": [
    {
     "name": "stdout",
     "output_type": "stream",
     "text": [
      "\n",
      "Fold 1 : Train accuracy=  0.84  Test accuracy=  0.84\n",
      "\n",
      "Fold 2 : Train accuracy=  0.85  Test accuracy=  0.83\n",
      "\n",
      "Fold 3 : Train accuracy=  0.84  Test accuracy=  0.85\n",
      "\n",
      "Fold 4 : Train accuracy=  0.84  Test accuracy=  0.87\n",
      "\n",
      "Fold 5 : Train accuracy=  0.85  Test accuracy=  0.83\n",
      "\n",
      "Avg train accuracy=  0.85\n",
      "Avg test accuracy=  0.84\n"
     ]
    }
   ],
   "source": [
    "# train and evaluate using 5 fold cross validation.\n",
    "train_and_evaluate(lr_clf)"
   ]
  },
  {
   "cell_type": "code",
   "execution_count": 217,
   "id": "40f1d036",
   "metadata": {},
   "outputs": [
    {
     "data": {
      "text/plain": [
       "LogisticRegression(random_state=0)"
      ]
     },
     "execution_count": 217,
     "metadata": {},
     "output_type": "execute_result"
    }
   ],
   "source": [
    "lr_clf.fit(train_feature_array, train_labels)"
   ]
  },
  {
   "cell_type": "code",
   "execution_count": 218,
   "id": "0112089b",
   "metadata": {},
   "outputs": [],
   "source": [
    "train_predictions=lr_clf.predict(train_feature_array)\n",
    "test_predictions=lr_clf.predict(test_feature_array)"
   ]
  },
  {
   "cell_type": "code",
   "execution_count": 219,
   "id": "cf6f66b3",
   "metadata": {},
   "outputs": [
    {
     "name": "stdout",
     "output_type": "stream",
     "text": [
      "Train: matches=  599 / 688  accuracy=  0.87\n",
      "Test: matches=  193 / 230  accuracy=  0.84\n"
     ]
    }
   ],
   "source": [
    "print(\"Train: \",end=\"\")\n",
    "print_accuracy(train_labels,train_predictions)\n",
    "print(\"Test: \",end=\"\")\n",
    "print_accuracy(test_labels,test_predictions)"
   ]
  },
  {
   "cell_type": "code",
   "execution_count": 317,
   "id": "e0525207",
   "metadata": {},
   "outputs": [
    {
     "data": {
      "text/plain": [
       "array([[0.76449137, 0.23550863],\n",
       "       [0.14644929, 0.85355071],\n",
       "       [0.39009606, 0.60990394],\n",
       "       [0.89265692, 0.10734308],\n",
       "       [0.93657232, 0.06342768],\n",
       "       [0.08624895, 0.91375105],\n",
       "       [0.24561614, 0.75438386],\n",
       "       [0.37065069, 0.62934931],\n",
       "       [0.01184228, 0.98815772],\n",
       "       [0.19339681, 0.80660319]])"
      ]
     },
     "execution_count": 317,
     "metadata": {},
     "output_type": "execute_result"
    }
   ],
   "source": [
    "lr_clf.predict_proba(test_feature_array)[:10]"
   ]
  },
  {
   "cell_type": "markdown",
   "id": "a93b1b9c",
   "metadata": {},
   "source": [
    "# KNN"
   ]
  },
  {
   "cell_type": "code",
   "execution_count": 490,
   "id": "4a164f74",
   "metadata": {},
   "outputs": [
    {
     "data": {
      "text/plain": [
       "KNeighborsClassifier(n_neighbors=10)"
      ]
     },
     "execution_count": 490,
     "metadata": {},
     "output_type": "execute_result"
    }
   ],
   "source": [
    "# we need to play with the value of k.\n",
    "\n",
    "from sklearn.neighbors import KNeighborsClassifier\n",
    "knn_clf = KNeighborsClassifier(n_neighbors=10)  # initially 15\n",
    "knn_clf"
   ]
  },
  {
   "cell_type": "code",
   "execution_count": 491,
   "id": "3eaa76ae",
   "metadata": {},
   "outputs": [
    {
     "name": "stdout",
     "output_type": "stream",
     "text": [
      "\n",
      "Fold 1 : Train accuracy=  0.86  Test accuracy=  0.88\n",
      "\n",
      "Fold 2 : Train accuracy=  0.87  Test accuracy=  0.83\n",
      "\n",
      "Fold 3 : Train accuracy=  0.86  Test accuracy=  0.87\n",
      "\n",
      "Fold 4 : Train accuracy=  0.87  Test accuracy=  0.86\n",
      "\n",
      "Fold 5 : Train accuracy=  0.87  Test accuracy=  0.82\n",
      "\n",
      "Avg train accuracy=  0.87\n",
      "Avg test accuracy=  0.85\n"
     ]
    }
   ],
   "source": [
    "# train and evaluate using 5 fold cross validation.\n",
    "train_and_evaluate(knn_clf)"
   ]
  },
  {
   "cell_type": "code",
   "execution_count": 453,
   "id": "f35e3f87",
   "metadata": {},
   "outputs": [
    {
     "data": {
      "text/plain": [
       "KNeighborsClassifier(n_neighbors=10)"
      ]
     },
     "execution_count": 453,
     "metadata": {},
     "output_type": "execute_result"
    }
   ],
   "source": [
    "knn_clf.fit(train_feature_array, train_labels)"
   ]
  },
  {
   "cell_type": "code",
   "execution_count": 454,
   "id": "82e5ef57",
   "metadata": {},
   "outputs": [],
   "source": [
    "train_predictions=knn_clf.predict(train_feature_array)\n",
    "test_predictions=knn_clf.predict(test_feature_array)"
   ]
  },
  {
   "cell_type": "code",
   "execution_count": 455,
   "id": "4bfea26c",
   "metadata": {},
   "outputs": [
    {
     "name": "stdout",
     "output_type": "stream",
     "text": [
      "Train: matches=  1075 / 1377  accuracy=  0.78\n",
      "Test: matches=  341 / 459  accuracy=  0.74\n"
     ]
    }
   ],
   "source": [
    "print(\"Train: \",end=\"\")\n",
    "print_accuracy(train_labels,train_predictions)\n",
    "print(\"Test: \",end=\"\")\n",
    "print_accuracy(test_labels,test_predictions)"
   ]
  },
  {
   "cell_type": "code",
   "execution_count": 324,
   "id": "7aa5fa5f",
   "metadata": {},
   "outputs": [
    {
     "name": "stdout",
     "output_type": "stream",
     "text": [
      "Train accuracy 0.7558139534883721\n",
      "Test accuracy 0.691304347826087\n"
     ]
    }
   ],
   "source": [
    "print('Train accuracy %s' % knn_clf.score(train_feature_array, train_labels))\n",
    "print('Test accuracy %s' % knn_clf.score(test_feature_array, test_labels)) "
   ]
  },
  {
   "cell_type": "code",
   "execution_count": 325,
   "id": "baa6829e",
   "metadata": {},
   "outputs": [
    {
     "name": "stdout",
     "output_type": "stream",
     "text": [
      "Test accuracy 0.691304347826087\n",
      "[[76 30]\n",
      " [41 83]]\n",
      "              precision    recall  f1-score   support\n",
      "\n",
      "           0       0.65      0.72      0.68       106\n",
      "           1       0.73      0.67      0.70       124\n",
      "\n",
      "    accuracy                           0.69       230\n",
      "   macro avg       0.69      0.69      0.69       230\n",
      "weighted avg       0.70      0.69      0.69       230\n",
      "\n"
     ]
    }
   ],
   "source": [
    "from sklearn.metrics import accuracy_score, confusion_matrix, classification_report\n",
    "print('Test accuracy %s' % accuracy_score(test_labels,test_predictions))\n",
    "print(confusion_matrix(test_labels,test_predictions)) \n",
    "print(classification_report(test_labels,test_predictions)) "
   ]
  },
  {
   "cell_type": "markdown",
   "id": "9d938be6",
   "metadata": {},
   "source": [
    "# XGBoost"
   ]
  },
  {
   "cell_type": "code",
   "execution_count": 19,
   "id": "deb87be1",
   "metadata": {},
   "outputs": [
    {
     "data": {
      "text/plain": [
       "XGBClassifier(base_score=None, booster=None, colsample_bylevel=None,\n",
       "              colsample_bynode=None, colsample_bytree=None,\n",
       "              enable_categorical=False, gamma=None, gpu_id=None,\n",
       "              importance_type=None, interaction_constraints=None,\n",
       "              learning_rate=None, max_delta_step=None, max_depth=None,\n",
       "              min_child_weight=None, missing=nan, monotone_constraints=None,\n",
       "              n_estimators=100, n_jobs=None, num_parallel_tree=None,\n",
       "              predictor=None, random_state=None, reg_alpha=None,\n",
       "              reg_lambda=None, scale_pos_weight=None, subsample=None,\n",
       "              tree_method=None, validate_parameters=None, verbosity=None)"
      ]
     },
     "execution_count": 19,
     "metadata": {},
     "output_type": "execute_result"
    }
   ],
   "source": [
    "from xgboost import XGBClassifier\n",
    "xgb_clf = XGBClassifier()\n",
    "xgb_clf"
   ]
  },
  {
   "cell_type": "code",
   "execution_count": 20,
   "id": "178576be",
   "metadata": {},
   "outputs": [
    {
     "name": "stdout",
     "output_type": "stream",
     "text": [
      "[11:29:17] WARNING: C:/Users/Administrator/workspace/xgboost-win64_release_1.5.0/src/learner.cc:1115: Starting in XGBoost 1.3.0, the default evaluation metric used with the objective 'binary:logistic' was changed from 'error' to 'logloss'. Explicitly set eval_metric if you'd like to restore the old behavior.\n",
      "\n",
      "Fold 1 : Train accuracy=  1.0  Test accuracy=  0.88\n",
      "[11:29:17] WARNING: C:/Users/Administrator/workspace/xgboost-win64_release_1.5.0/src/learner.cc:1115: Starting in XGBoost 1.3.0, the default evaluation metric used with the objective 'binary:logistic' was changed from 'error' to 'logloss'. Explicitly set eval_metric if you'd like to restore the old behavior.\n",
      "\n",
      "Fold 2 : Train accuracy=  1.0  Test accuracy=  0.85\n",
      "[11:29:17] WARNING: C:/Users/Administrator/workspace/xgboost-win64_release_1.5.0/src/learner.cc:1115: Starting in XGBoost 1.3.0, the default evaluation metric used with the objective 'binary:logistic' was changed from 'error' to 'logloss'. Explicitly set eval_metric if you'd like to restore the old behavior.\n",
      "\n",
      "Fold 3 : Train accuracy=  1.0  Test accuracy=  0.82\n",
      "[11:29:18] WARNING: C:/Users/Administrator/workspace/xgboost-win64_release_1.5.0/src/learner.cc:1115: Starting in XGBoost 1.3.0, the default evaluation metric used with the objective 'binary:logistic' was changed from 'error' to 'logloss'. Explicitly set eval_metric if you'd like to restore the old behavior.\n",
      "\n",
      "Fold 4 : Train accuracy=  1.0  Test accuracy=  0.83\n",
      "[11:29:18] WARNING: C:/Users/Administrator/workspace/xgboost-win64_release_1.5.0/src/learner.cc:1115: Starting in XGBoost 1.3.0, the default evaluation metric used with the objective 'binary:logistic' was changed from 'error' to 'logloss'. Explicitly set eval_metric if you'd like to restore the old behavior.\n",
      "\n",
      "Fold 5 : Train accuracy=  1.0  Test accuracy=  0.87\n",
      "\n",
      "Avg train accuracy=  1.0\n",
      "Avg test accuracy=  0.85\n"
     ]
    }
   ],
   "source": [
    "# train and evaluate using 5 fold cross validation.\n",
    "train_and_evaluate(xgb_clf)"
   ]
  },
  {
   "cell_type": "code",
   "execution_count": 21,
   "id": "667a7b51",
   "metadata": {},
   "outputs": [
    {
     "name": "stdout",
     "output_type": "stream",
     "text": [
      "[11:29:22] WARNING: C:/Users/Administrator/workspace/xgboost-win64_release_1.5.0/src/learner.cc:1115: Starting in XGBoost 1.3.0, the default evaluation metric used with the objective 'binary:logistic' was changed from 'error' to 'logloss'. Explicitly set eval_metric if you'd like to restore the old behavior.\n"
     ]
    },
    {
     "data": {
      "text/plain": [
       "XGBClassifier(base_score=0.5, booster='gbtree', colsample_bylevel=1,\n",
       "              colsample_bynode=1, colsample_bytree=1, enable_categorical=False,\n",
       "              gamma=0, gpu_id=-1, importance_type=None,\n",
       "              interaction_constraints='', learning_rate=0.300000012,\n",
       "              max_delta_step=0, max_depth=6, min_child_weight=1, missing=nan,\n",
       "              monotone_constraints='()', n_estimators=100, n_jobs=4,\n",
       "              num_parallel_tree=1, predictor='auto', random_state=0,\n",
       "              reg_alpha=0, reg_lambda=1, scale_pos_weight=1, subsample=1,\n",
       "              tree_method='exact', validate_parameters=1, verbosity=None)"
      ]
     },
     "execution_count": 21,
     "metadata": {},
     "output_type": "execute_result"
    }
   ],
   "source": [
    "xgb_clf.fit(train_feature_array, train_labels)"
   ]
  },
  {
   "cell_type": "code",
   "execution_count": 22,
   "id": "54948f0e",
   "metadata": {},
   "outputs": [],
   "source": [
    "train_predictions=xgb_clf.predict(train_feature_array)\n",
    "test_predictions=xgb_clf.predict(test_feature_array)"
   ]
  },
  {
   "cell_type": "code",
   "execution_count": 23,
   "id": "7cad53a5",
   "metadata": {},
   "outputs": [
    {
     "name": "stdout",
     "output_type": "stream",
     "text": [
      "Train: matches=  688 / 688  accuracy=  1.0\n",
      "Test: matches=  193 / 230  accuracy=  0.84\n"
     ]
    }
   ],
   "source": [
    "print(\"Train: \",end=\"\")\n",
    "print_accuracy(train_labels,train_predictions)\n",
    "print(\"Test: \",end=\"\")\n",
    "print_accuracy(test_labels,test_predictions)"
   ]
  },
  {
   "cell_type": "code",
   "execution_count": 54,
   "id": "9cb9134c",
   "metadata": {},
   "outputs": [
    {
     "data": {
      "text/plain": [
       "array([[6.1936378e-03, 9.9380636e-01],\n",
       "       [4.0006638e-02, 9.5999336e-01],\n",
       "       [1.6427636e-03, 9.9835724e-01],\n",
       "       [9.6716893e-01, 3.2831080e-02],\n",
       "       [1.8374741e-02, 9.8162526e-01],\n",
       "       [9.9996793e-01, 3.2068390e-05],\n",
       "       [9.4905287e-01, 5.0947115e-02],\n",
       "       [2.7177215e-02, 9.7282279e-01],\n",
       "       [1.4932096e-02, 9.8506790e-01],\n",
       "       [5.0407052e-02, 9.4959295e-01]], dtype=float32)"
      ]
     },
     "execution_count": 54,
     "metadata": {},
     "output_type": "execute_result"
    }
   ],
   "source": [
    "xgb_clf.predict_proba(test_feature_array)[:10]"
   ]
  },
  {
   "cell_type": "code",
   "execution_count": 213,
   "id": "8f245e21",
   "metadata": {},
   "outputs": [
    {
     "data": {
      "text/plain": [
       "<AxesSubplot:title={'center':'Feature importance'}, xlabel='F score', ylabel='Features'>"
      ]
     },
     "execution_count": 213,
     "metadata": {},
     "output_type": "execute_result"
    },
    {
     "data": {
      "image/png": "[encoded data removed]",
      "text/plain": [
       "<Figure size 576x360 with 1 Axes>"
      ]
     },
     "metadata": {},
     "output_type": "display_data"
    }
   ],
   "source": [
    "from xgboost import plot_importance\n",
    "plot_importance(xgb_clf)"
   ]
  },
  {
   "cell_type": "markdown",
   "id": "6c4b7beb",
   "metadata": {},
   "source": [
    "# Optuna"
   ]
  },
  {
   "cell_type": "code",
   "execution_count": 381,
   "id": "f79882e9",
   "metadata": {},
   "outputs": [],
   "source": [
    "import optuna"
   ]
  },
  {
   "cell_type": "code",
   "execution_count": null,
   "id": "a130531a",
   "metadata": {},
   "outputs": [],
   "source": [
    "def objective(trial):\n",
    "    #n_estimators = trial.suggest_int('n_estimators', 1, 50)\n",
    "    #max_depth = int(trial.suggest_loguniform('max_depth', 1, 30))\n",
    "    \n",
    "    #kernel = trial.suggest_categorical('kernel',['linear','rbf','poly','sigmoid','precomputed'])\n",
    "    #C = trial.suggest_int('C', 0, 5)\n",
    "    #degree = trial.suggest_int('degree', 1, 25)\n",
    "    \n",
    "    #solver = trial.suggest_categorical('solver',['newton-cg', 'lbfgs', 'liblinear', 'sag', 'saga'])\n",
    "    \n",
    "    n_neighbors = trial.suggest_int('n_neighbors', 1, 100)\n",
    "    weights = trial.suggest_categorical('weights',['uniform','distance'])\n",
    "    algorithm = trial.suggest_categorical('algorithm',['auto','ball_tree','kd_tree','brute'])\n",
    "    \n",
    "#     n_estimators = trial.suggest_int('n_estimators', 1, 100)\n",
    "#     max_depth = int(trial.suggest_loguniform('max_depth', 1, 30))\n",
    "#     #learning_rate = trial.suggest_float('learning_rate', 0, 1)\n",
    "#     booster = trial.suggest_categorical('booster',['gbtree', 'gblinear', 'dart'])\n",
    "#     tree_method = trial.suggest_categorical('tree_method',['exact', 'approx', 'hist'])\n",
    "#     n_jobs = trial.suggest_int('n_jobs', 1, 10)\n",
    "    \n",
    "    #rf_cls = RandomForestClassifier(n_estimators=n_estimators, max_depth=max_depth, random_state=5)\n",
    "    #dt_cls = tree.DecisionTreeClassifier(max_depth=max_depth,random_state=None,splitter='random')\n",
    "    #cls = SVC(kernel=kernel, C=C, degree=degree, random_state=None)\n",
    "    #lr_cls = LogisticRegression(solver=solver, random_state=None)\n",
    "    knn_cls = KNeighborsClassifier(n_neighbors=n_neighbors, weights=weights, algorithm=algorithm)\n",
    "    #xgb_cls = XGBClassifier(n_estimators=n_estimators, max_depth=max_depth, booster=booster, tree_method=tree_method, n_jobs=n_jobs)\n",
    "    return tnv(knn_cls)"
   ]
  },
  {
   "cell_type": "code",
   "execution_count": 417,
   "id": "20b81b24",
   "metadata": {},
   "outputs": [],
   "source": [
    "def tnv(model):\n",
    "    kf = KFold(n_splits=5,shuffle=True,random_state=None)\n",
    "    i=1\n",
    "    train_accuracies=[]\n",
    "    test_accuracies=[]\n",
    "    for train_index, test_index in kf.split(feature_array):\n",
    "        X_train, X_test = feature_array[train_index], feature_array[test_index]\n",
    "        y_train, y_test = target_label[train_index], target_label[test_index]\n",
    "        \n",
    "        model.fit(X_train, y_train)\n",
    "        \n",
    "        train_predictions=model.predict(X_train)\n",
    "        test_predictions=model.predict(X_test)\n",
    "        \n",
    "        train_accuracy=print_accuracies(y_train,train_predictions)\n",
    "        train_accuracies.append(train_accuracy)\n",
    "        test_accuracy=print_accuracies(y_test,test_predictions)\n",
    "        test_accuracies.append(test_accuracy)\n",
    "        i+=1\n",
    "    \n",
    "    #return round(np.array(train_accuracies).mean(),2)\n",
    "    return round(np.array(test_accuracies).mean(),2)"
   ]
  },
  {
   "cell_type": "code",
   "execution_count": 513,
   "id": "d06ff424",
   "metadata": {},
   "outputs": [
    {
     "name": "stderr",
     "output_type": "stream",
     "text": [
      "\u001b[32m[I 2021-11-20 22:44:27,384]\u001b[0m A new study created in memory with name: no-name-778b4cc2-335d-4820-99e1-0d42116817b1\u001b[0m\n",
      "\u001b[32m[I 2021-11-20 22:44:27,692]\u001b[0m Trial 0 finished with value: 0.86 and parameters: {'n_neighbors': 88, 'weights': 'uniform', 'algorithm': 'auto'}. Best is trial 0 with value: 0.86.\u001b[0m\n",
      "\u001b[32m[I 2021-11-20 22:44:27,950]\u001b[0m Trial 1 finished with value: 0.86 and parameters: {'n_neighbors': 53, 'weights': 'uniform', 'algorithm': 'brute'}. Best is trial 0 with value: 0.86.\u001b[0m\n",
      "\u001b[32m[I 2021-11-20 22:44:28,264]\u001b[0m Trial 2 finished with value: 0.86 and parameters: {'n_neighbors': 78, 'weights': 'uniform', 'algorithm': 'ball_tree'}. Best is trial 0 with value: 0.86.\u001b[0m\n",
      "\u001b[32m[I 2021-11-20 22:44:28,424]\u001b[0m Trial 3 finished with value: 0.86 and parameters: {'n_neighbors': 65, 'weights': 'distance', 'algorithm': 'auto'}. Best is trial 0 with value: 0.86.\u001b[0m\n",
      "\u001b[32m[I 2021-11-20 22:44:28,702]\u001b[0m Trial 4 finished with value: 0.86 and parameters: {'n_neighbors': 85, 'weights': 'uniform', 'algorithm': 'brute'}. Best is trial 0 with value: 0.86.\u001b[0m\n",
      "\u001b[32m[I 2021-11-20 22:44:28,966]\u001b[0m Trial 5 finished with value: 0.85 and parameters: {'n_neighbors': 44, 'weights': 'uniform', 'algorithm': 'auto'}. Best is trial 0 with value: 0.86.\u001b[0m\n",
      "\u001b[32m[I 2021-11-20 22:44:29,143]\u001b[0m Trial 6 finished with value: 0.86 and parameters: {'n_neighbors': 36, 'weights': 'distance', 'algorithm': 'kd_tree'}. Best is trial 0 with value: 0.86.\u001b[0m\n",
      "\u001b[32m[I 2021-11-20 22:44:29,291]\u001b[0m Trial 7 finished with value: 0.86 and parameters: {'n_neighbors': 65, 'weights': 'distance', 'algorithm': 'auto'}. Best is trial 0 with value: 0.86.\u001b[0m\n",
      "\u001b[32m[I 2021-11-20 22:44:29,432]\u001b[0m Trial 8 finished with value: 0.86 and parameters: {'n_neighbors': 34, 'weights': 'distance', 'algorithm': 'auto'}. Best is trial 0 with value: 0.86.\u001b[0m\n",
      "\u001b[32m[I 2021-11-20 22:44:29,694]\u001b[0m Trial 9 finished with value: 0.86 and parameters: {'n_neighbors': 50, 'weights': 'uniform', 'algorithm': 'brute'}. Best is trial 0 with value: 0.86.\u001b[0m\n",
      "\u001b[32m[I 2021-11-20 22:44:30,063]\u001b[0m Trial 10 finished with value: 0.86 and parameters: {'n_neighbors': 100, 'weights': 'uniform', 'algorithm': 'kd_tree'}. Best is trial 0 with value: 0.86.\u001b[0m\n",
      "\u001b[32m[I 2021-11-20 22:44:30,276]\u001b[0m Trial 11 finished with value: 0.83 and parameters: {'n_neighbors': 3, 'weights': 'uniform', 'algorithm': 'brute'}. Best is trial 0 with value: 0.86.\u001b[0m\n",
      "\u001b[32m[I 2021-11-20 22:44:30,537]\u001b[0m Trial 12 finished with value: 0.85 and parameters: {'n_neighbors': 14, 'weights': 'uniform', 'algorithm': 'ball_tree'}. Best is trial 0 with value: 0.86.\u001b[0m\n",
      "\u001b[32m[I 2021-11-20 22:44:30,832]\u001b[0m Trial 13 finished with value: 0.86 and parameters: {'n_neighbors': 100, 'weights': 'uniform', 'algorithm': 'brute'}. Best is trial 0 with value: 0.86.\u001b[0m\n",
      "\u001b[32m[I 2021-11-20 22:44:31,139]\u001b[0m Trial 14 finished with value: 0.86 and parameters: {'n_neighbors': 65, 'weights': 'uniform', 'algorithm': 'brute'}. Best is trial 0 with value: 0.86.\u001b[0m\n",
      "\u001b[32m[I 2021-11-20 22:44:31,421]\u001b[0m Trial 15 finished with value: 0.86 and parameters: {'n_neighbors': 83, 'weights': 'uniform', 'algorithm': 'auto'}. Best is trial 0 with value: 0.86.\u001b[0m\n",
      "\u001b[32m[I 2021-11-20 22:44:31,684]\u001b[0m Trial 16 finished with value: 0.86 and parameters: {'n_neighbors': 25, 'weights': 'uniform', 'algorithm': 'ball_tree'}. Best is trial 0 with value: 0.86.\u001b[0m\n",
      "\u001b[32m[I 2021-11-20 22:44:32,027]\u001b[0m Trial 17 finished with value: 0.85 and parameters: {'n_neighbors': 68, 'weights': 'uniform', 'algorithm': 'kd_tree'}. Best is trial 0 with value: 0.86.\u001b[0m\n",
      "\u001b[32m[I 2021-11-20 22:44:32,194]\u001b[0m Trial 18 finished with value: 0.86 and parameters: {'n_neighbors': 85, 'weights': 'distance', 'algorithm': 'auto'}. Best is trial 0 with value: 0.86.\u001b[0m\n",
      "\u001b[32m[I 2021-11-20 22:44:32,452]\u001b[0m Trial 19 finished with value: 0.85 and parameters: {'n_neighbors': 23, 'weights': 'uniform', 'algorithm': 'ball_tree'}. Best is trial 0 with value: 0.86.\u001b[0m\n",
      "\u001b[32m[I 2021-11-20 22:44:32,752]\u001b[0m Trial 20 finished with value: 0.86 and parameters: {'n_neighbors': 24, 'weights': 'uniform', 'algorithm': 'ball_tree'}. Best is trial 0 with value: 0.86.\u001b[0m\n",
      "\u001b[32m[I 2021-11-20 22:44:32,927]\u001b[0m Trial 21 finished with value: 0.86 and parameters: {'n_neighbors': 95, 'weights': 'distance', 'algorithm': 'auto'}. Best is trial 0 with value: 0.86.\u001b[0m\n",
      "\u001b[32m[I 2021-11-20 22:44:33,312]\u001b[0m Trial 22 finished with value: 0.87 and parameters: {'n_neighbors': 89, 'weights': 'distance', 'algorithm': 'auto'}. Best is trial 22 with value: 0.87.\u001b[0m\n",
      "\u001b[32m[I 2021-11-20 22:44:33,555]\u001b[0m Trial 23 finished with value: 0.86 and parameters: {'n_neighbors': 76, 'weights': 'distance', 'algorithm': 'ball_tree'}. Best is trial 22 with value: 0.87.\u001b[0m\n",
      "\u001b[32m[I 2021-11-20 22:44:33,717]\u001b[0m Trial 24 finished with value: 0.86 and parameters: {'n_neighbors': 92, 'weights': 'distance', 'algorithm': 'auto'}. Best is trial 22 with value: 0.87.\u001b[0m\n",
      "\u001b[32m[I 2021-11-20 22:44:33,888]\u001b[0m Trial 25 finished with value: 0.86 and parameters: {'n_neighbors': 94, 'weights': 'distance', 'algorithm': 'auto'}. Best is trial 22 with value: 0.87.\u001b[0m\n",
      "\u001b[32m[I 2021-11-20 22:44:34,102]\u001b[0m Trial 26 finished with value: 0.87 and parameters: {'n_neighbors': 76, 'weights': 'distance', 'algorithm': 'ball_tree'}. Best is trial 22 with value: 0.87.\u001b[0m\n",
      "\u001b[32m[I 2021-11-20 22:44:34,278]\u001b[0m Trial 27 finished with value: 0.87 and parameters: {'n_neighbors': 74, 'weights': 'distance', 'algorithm': 'auto'}. Best is trial 22 with value: 0.87.\u001b[0m\n",
      "\u001b[32m[I 2021-11-20 22:44:34,478]\u001b[0m Trial 28 finished with value: 0.86 and parameters: {'n_neighbors': 73, 'weights': 'distance', 'algorithm': 'ball_tree'}. Best is trial 22 with value: 0.87.\u001b[0m\n",
      "\u001b[32m[I 2021-11-20 22:44:34,633]\u001b[0m Trial 29 finished with value: 0.86 and parameters: {'n_neighbors': 59, 'weights': 'distance', 'algorithm': 'auto'}. Best is trial 22 with value: 0.87.\u001b[0m\n",
      "\u001b[32m[I 2021-11-20 22:44:34,860]\u001b[0m Trial 30 finished with value: 0.86 and parameters: {'n_neighbors': 80, 'weights': 'distance', 'algorithm': 'kd_tree'}. Best is trial 22 with value: 0.87.\u001b[0m\n",
      "\u001b[32m[I 2021-11-20 22:44:35,027]\u001b[0m Trial 31 finished with value: 0.86 and parameters: {'n_neighbors': 90, 'weights': 'distance', 'algorithm': 'auto'}. Best is trial 22 with value: 0.87.\u001b[0m\n",
      "\u001b[32m[I 2021-11-20 22:44:35,180]\u001b[0m Trial 32 finished with value: 0.86 and parameters: {'n_neighbors': 72, 'weights': 'distance', 'algorithm': 'auto'}. Best is trial 22 with value: 0.87.\u001b[0m\n",
      "\u001b[32m[I 2021-11-20 22:44:35,334]\u001b[0m Trial 33 finished with value: 0.86 and parameters: {'n_neighbors': 57, 'weights': 'distance', 'algorithm': 'auto'}. Best is trial 22 with value: 0.87.\u001b[0m\n",
      "\u001b[32m[I 2021-11-20 22:44:35,509]\u001b[0m Trial 34 finished with value: 0.86 and parameters: {'n_neighbors': 86, 'weights': 'distance', 'algorithm': 'auto'}. Best is trial 22 with value: 0.87.\u001b[0m\n",
      "\u001b[32m[I 2021-11-20 22:44:35,706]\u001b[0m Trial 35 finished with value: 0.86 and parameters: {'n_neighbors': 79, 'weights': 'distance', 'algorithm': 'ball_tree'}. Best is trial 22 with value: 0.87.\u001b[0m\n",
      "\u001b[32m[I 2021-11-20 22:44:35,933]\u001b[0m Trial 36 finished with value: 0.86 and parameters: {'n_neighbors': 49, 'weights': 'distance', 'algorithm': 'ball_tree'}. Best is trial 22 with value: 0.87.\u001b[0m\n",
      "\u001b[32m[I 2021-11-20 22:44:36,118]\u001b[0m Trial 37 finished with value: 0.86 and parameters: {'n_neighbors': 97, 'weights': 'distance', 'algorithm': 'auto'}. Best is trial 22 with value: 0.87.\u001b[0m\n",
      "\u001b[32m[I 2021-11-20 22:44:36,324]\u001b[0m Trial 38 finished with value: 0.86 and parameters: {'n_neighbors': 89, 'weights': 'distance', 'algorithm': 'auto'}. Best is trial 22 with value: 0.87.\u001b[0m\n",
      "\u001b[32m[I 2021-11-20 22:44:36,495]\u001b[0m Trial 39 finished with value: 0.86 and parameters: {'n_neighbors': 69, 'weights': 'distance', 'algorithm': 'auto'}. Best is trial 22 with value: 0.87.\u001b[0m\n",
      "\u001b[32m[I 2021-11-20 22:44:36,729]\u001b[0m Trial 40 finished with value: 0.86 and parameters: {'n_neighbors': 60, 'weights': 'distance', 'algorithm': 'kd_tree'}. Best is trial 22 with value: 0.87.\u001b[0m\n",
      "\u001b[32m[I 2021-11-20 22:44:36,954]\u001b[0m Trial 41 finished with value: 0.87 and parameters: {'n_neighbors': 75, 'weights': 'distance', 'algorithm': 'ball_tree'}. Best is trial 22 with value: 0.87.\u001b[0m\n"
     ]
    },
    {
     "name": "stderr",
     "output_type": "stream",
     "text": [
      "\u001b[32m[I 2021-11-20 22:44:37,174]\u001b[0m Trial 42 finished with value: 0.87 and parameters: {'n_neighbors': 76, 'weights': 'distance', 'algorithm': 'ball_tree'}. Best is trial 22 with value: 0.87.\u001b[0m\n",
      "\u001b[32m[I 2021-11-20 22:44:37,408]\u001b[0m Trial 43 finished with value: 0.86 and parameters: {'n_neighbors': 81, 'weights': 'distance', 'algorithm': 'ball_tree'}. Best is trial 22 with value: 0.87.\u001b[0m\n",
      "\u001b[32m[I 2021-11-20 22:44:37,615]\u001b[0m Trial 44 finished with value: 0.86 and parameters: {'n_neighbors': 75, 'weights': 'distance', 'algorithm': 'ball_tree'}. Best is trial 22 with value: 0.87.\u001b[0m\n",
      "\u001b[32m[I 2021-11-20 22:44:37,834]\u001b[0m Trial 45 finished with value: 0.86 and parameters: {'n_neighbors': 70, 'weights': 'distance', 'algorithm': 'ball_tree'}. Best is trial 22 with value: 0.87.\u001b[0m\n",
      "\u001b[32m[I 2021-11-20 22:44:38,045]\u001b[0m Trial 46 finished with value: 0.87 and parameters: {'n_neighbors': 65, 'weights': 'distance', 'algorithm': 'ball_tree'}. Best is trial 22 with value: 0.87.\u001b[0m\n",
      "\u001b[32m[I 2021-11-20 22:44:38,244]\u001b[0m Trial 47 finished with value: 0.86 and parameters: {'n_neighbors': 61, 'weights': 'distance', 'algorithm': 'ball_tree'}. Best is trial 22 with value: 0.87.\u001b[0m\n",
      "\u001b[32m[I 2021-11-20 22:44:38,428]\u001b[0m Trial 48 finished with value: 0.86 and parameters: {'n_neighbors': 54, 'weights': 'distance', 'algorithm': 'ball_tree'}. Best is trial 22 with value: 0.87.\u001b[0m\n",
      "\u001b[32m[I 2021-11-20 22:44:38,625]\u001b[0m Trial 49 finished with value: 0.86 and parameters: {'n_neighbors': 64, 'weights': 'distance', 'algorithm': 'ball_tree'}. Best is trial 22 with value: 0.87.\u001b[0m\n",
      "\u001b[32m[I 2021-11-20 22:44:38,789]\u001b[0m Trial 50 finished with value: 0.87 and parameters: {'n_neighbors': 82, 'weights': 'distance', 'algorithm': 'brute'}. Best is trial 22 with value: 0.87.\u001b[0m\n",
      "\u001b[32m[I 2021-11-20 22:44:38,955]\u001b[0m Trial 51 finished with value: 0.86 and parameters: {'n_neighbors': 77, 'weights': 'distance', 'algorithm': 'brute'}. Best is trial 22 with value: 0.87.\u001b[0m\n",
      "\u001b[32m[I 2021-11-20 22:44:39,154]\u001b[0m Trial 52 finished with value: 0.86 and parameters: {'n_neighbors': 65, 'weights': 'distance', 'algorithm': 'ball_tree'}. Best is trial 22 with value: 0.87.\u001b[0m\n",
      "\u001b[32m[I 2021-11-20 22:44:39,314]\u001b[0m Trial 53 finished with value: 0.85 and parameters: {'n_neighbors': 46, 'weights': 'distance', 'algorithm': 'ball_tree'}. Best is trial 22 with value: 0.87.\u001b[0m\n",
      "\u001b[32m[I 2021-11-20 22:44:39,538]\u001b[0m Trial 54 finished with value: 0.86 and parameters: {'n_neighbors': 85, 'weights': 'distance', 'algorithm': 'ball_tree'}. Best is trial 22 with value: 0.87.\u001b[0m\n",
      "\u001b[32m[I 2021-11-20 22:44:39,708]\u001b[0m Trial 55 finished with value: 0.86 and parameters: {'n_neighbors': 83, 'weights': 'distance', 'algorithm': 'brute'}. Best is trial 22 with value: 0.87.\u001b[0m\n",
      "\u001b[32m[I 2021-11-20 22:44:39,882]\u001b[0m Trial 56 finished with value: 0.86 and parameters: {'n_neighbors': 88, 'weights': 'distance', 'algorithm': 'brute'}. Best is trial 22 with value: 0.87.\u001b[0m\n",
      "\u001b[32m[I 2021-11-20 22:44:40,050]\u001b[0m Trial 57 finished with value: 0.86 and parameters: {'n_neighbors': 68, 'weights': 'distance', 'algorithm': 'brute'}. Best is trial 22 with value: 0.87.\u001b[0m\n",
      "\u001b[32m[I 2021-11-20 22:44:40,218]\u001b[0m Trial 58 finished with value: 0.87 and parameters: {'n_neighbors': 78, 'weights': 'distance', 'algorithm': 'brute'}. Best is trial 22 with value: 0.87.\u001b[0m\n",
      "\u001b[32m[I 2021-11-20 22:44:40,407]\u001b[0m Trial 59 finished with value: 0.86 and parameters: {'n_neighbors': 40, 'weights': 'distance', 'algorithm': 'kd_tree'}. Best is trial 22 with value: 0.87.\u001b[0m\n",
      "\u001b[32m[I 2021-11-20 22:44:40,579]\u001b[0m Trial 60 finished with value: 0.86 and parameters: {'n_neighbors': 82, 'weights': 'distance', 'algorithm': 'brute'}. Best is trial 22 with value: 0.87.\u001b[0m\n",
      "\u001b[32m[I 2021-11-20 22:44:40,741]\u001b[0m Trial 61 finished with value: 0.86 and parameters: {'n_neighbors': 74, 'weights': 'distance', 'algorithm': 'brute'}. Best is trial 22 with value: 0.87.\u001b[0m\n",
      "\u001b[32m[I 2021-11-20 22:44:40,910]\u001b[0m Trial 62 finished with value: 0.87 and parameters: {'n_neighbors': 78, 'weights': 'distance', 'algorithm': 'brute'}. Best is trial 22 with value: 0.87.\u001b[0m\n",
      "\u001b[32m[I 2021-11-20 22:44:41,083]\u001b[0m Trial 63 finished with value: 0.87 and parameters: {'n_neighbors': 77, 'weights': 'distance', 'algorithm': 'brute'}. Best is trial 22 with value: 0.87.\u001b[0m\n",
      "\u001b[32m[I 2021-11-20 22:44:41,288]\u001b[0m Trial 64 finished with value: 0.86 and parameters: {'n_neighbors': 71, 'weights': 'distance', 'algorithm': 'ball_tree'}. Best is trial 22 with value: 0.87.\u001b[0m\n",
      "\u001b[32m[I 2021-11-20 22:44:41,493]\u001b[0m Trial 65 finished with value: 0.86 and parameters: {'n_neighbors': 92, 'weights': 'distance', 'algorithm': 'ball_tree'}. Best is trial 22 with value: 0.87.\u001b[0m\n",
      "\u001b[32m[I 2021-11-20 22:44:41,839]\u001b[0m Trial 66 finished with value: 0.86 and parameters: {'n_neighbors': 86, 'weights': 'uniform', 'algorithm': 'ball_tree'}. Best is trial 22 with value: 0.87.\u001b[0m\n",
      "\u001b[32m[I 2021-11-20 22:44:42,029]\u001b[0m Trial 67 finished with value: 0.86 and parameters: {'n_neighbors': 98, 'weights': 'distance', 'algorithm': 'brute'}. Best is trial 22 with value: 0.87.\u001b[0m\n",
      "\u001b[32m[I 2021-11-20 22:44:42,198]\u001b[0m Trial 68 finished with value: 0.87 and parameters: {'n_neighbors': 80, 'weights': 'distance', 'algorithm': 'brute'}. Best is trial 22 with value: 0.87.\u001b[0m\n",
      "\u001b[32m[I 2021-11-20 22:44:42,367]\u001b[0m Trial 69 finished with value: 0.86 and parameters: {'n_neighbors': 82, 'weights': 'distance', 'algorithm': 'auto'}. Best is trial 22 with value: 0.87.\u001b[0m\n",
      "\u001b[32m[I 2021-11-20 22:44:42,679]\u001b[0m Trial 70 finished with value: 0.86 and parameters: {'n_neighbors': 91, 'weights': 'uniform', 'algorithm': 'brute'}. Best is trial 22 with value: 0.87.\u001b[0m\n",
      "\u001b[32m[I 2021-11-20 22:44:42,842]\u001b[0m Trial 71 finished with value: 0.86 and parameters: {'n_neighbors': 78, 'weights': 'distance', 'algorithm': 'brute'}. Best is trial 22 with value: 0.87.\u001b[0m\n",
      "\u001b[32m[I 2021-11-20 22:44:42,996]\u001b[0m Trial 72 finished with value: 0.86 and parameters: {'n_neighbors': 72, 'weights': 'distance', 'algorithm': 'brute'}. Best is trial 22 with value: 0.87.\u001b[0m\n",
      "\u001b[32m[I 2021-11-20 22:44:43,162]\u001b[0m Trial 73 finished with value: 0.86 and parameters: {'n_neighbors': 63, 'weights': 'distance', 'algorithm': 'brute'}. Best is trial 22 with value: 0.87.\u001b[0m\n",
      "\u001b[32m[I 2021-11-20 22:44:43,338]\u001b[0m Trial 74 finished with value: 0.86 and parameters: {'n_neighbors': 88, 'weights': 'distance', 'algorithm': 'brute'}. Best is trial 22 with value: 0.87.\u001b[0m\n",
      "\u001b[32m[I 2021-11-20 22:44:43,496]\u001b[0m Trial 75 finished with value: 0.86 and parameters: {'n_neighbors': 79, 'weights': 'distance', 'algorithm': 'brute'}. Best is trial 22 with value: 0.87.\u001b[0m\n",
      "\u001b[32m[I 2021-11-20 22:44:43,645]\u001b[0m Trial 76 finished with value: 0.87 and parameters: {'n_neighbors': 73, 'weights': 'distance', 'algorithm': 'auto'}. Best is trial 22 with value: 0.87.\u001b[0m\n",
      "\u001b[32m[I 2021-11-20 22:44:43,843]\u001b[0m Trial 77 finished with value: 0.86 and parameters: {'n_neighbors': 68, 'weights': 'distance', 'algorithm': 'ball_tree'}. Best is trial 22 with value: 0.87.\u001b[0m\n",
      "\u001b[32m[I 2021-11-20 22:44:44,063]\u001b[0m Trial 78 finished with value: 0.86 and parameters: {'n_neighbors': 57, 'weights': 'distance', 'algorithm': 'kd_tree'}. Best is trial 22 with value: 0.87.\u001b[0m\n",
      "\u001b[32m[I 2021-11-20 22:44:44,214]\u001b[0m Trial 79 finished with value: 0.86 and parameters: {'n_neighbors': 76, 'weights': 'distance', 'algorithm': 'brute'}. Best is trial 22 with value: 0.87.\u001b[0m\n",
      "\u001b[32m[I 2021-11-20 22:44:44,373]\u001b[0m Trial 80 finished with value: 0.87 and parameters: {'n_neighbors': 76, 'weights': 'distance', 'algorithm': 'brute'}. Best is trial 22 with value: 0.87.\u001b[0m\n",
      "\u001b[32m[I 2021-11-20 22:44:44,543]\u001b[0m Trial 81 finished with value: 0.86 and parameters: {'n_neighbors': 70, 'weights': 'distance', 'algorithm': 'auto'}. Best is trial 22 with value: 0.87.\u001b[0m\n",
      "\u001b[32m[I 2021-11-20 22:44:44,710]\u001b[0m Trial 82 finished with value: 0.86 and parameters: {'n_neighbors': 84, 'weights': 'distance', 'algorithm': 'brute'}. Best is trial 22 with value: 0.87.\u001b[0m\n",
      "\u001b[32m[I 2021-11-20 22:44:44,930]\u001b[0m Trial 83 finished with value: 0.86 and parameters: {'n_neighbors': 94, 'weights': 'distance', 'algorithm': 'brute'}. Best is trial 22 with value: 0.87.\u001b[0m\n",
      "\u001b[32m[I 2021-11-20 22:44:45,092]\u001b[0m Trial 84 finished with value: 0.86 and parameters: {'n_neighbors': 66, 'weights': 'distance', 'algorithm': 'auto'}. Best is trial 22 with value: 0.87.\u001b[0m\n"
     ]
    },
    {
     "name": "stderr",
     "output_type": "stream",
     "text": [
      "\u001b[32m[I 2021-11-20 22:44:45,294]\u001b[0m Trial 85 finished with value: 0.86 and parameters: {'n_neighbors': 74, 'weights': 'distance', 'algorithm': 'ball_tree'}. Best is trial 22 with value: 0.87.\u001b[0m\n",
      "\u001b[32m[I 2021-11-20 22:44:45,662]\u001b[0m Trial 86 finished with value: 0.86 and parameters: {'n_neighbors': 80, 'weights': 'uniform', 'algorithm': 'ball_tree'}. Best is trial 22 with value: 0.87.\u001b[0m\n",
      "\u001b[32m[I 2021-11-20 22:44:45,822]\u001b[0m Trial 87 finished with value: 0.86 and parameters: {'n_neighbors': 78, 'weights': 'distance', 'algorithm': 'auto'}. Best is trial 22 with value: 0.87.\u001b[0m\n",
      "\u001b[32m[I 2021-11-20 22:44:45,988]\u001b[0m Trial 88 finished with value: 0.86 and parameters: {'n_neighbors': 86, 'weights': 'distance', 'algorithm': 'brute'}. Best is trial 22 with value: 0.87.\u001b[0m\n",
      "\u001b[32m[I 2021-11-20 22:44:46,220]\u001b[0m Trial 89 finished with value: 0.86 and parameters: {'n_neighbors': 83, 'weights': 'distance', 'algorithm': 'kd_tree'}. Best is trial 22 with value: 0.87.\u001b[0m\n",
      "\u001b[32m[I 2021-11-20 22:44:46,382]\u001b[0m Trial 90 finished with value: 0.87 and parameters: {'n_neighbors': 71, 'weights': 'distance', 'algorithm': 'auto'}. Best is trial 22 with value: 0.87.\u001b[0m\n",
      "\u001b[32m[I 2021-11-20 22:44:46,547]\u001b[0m Trial 91 finished with value: 0.86 and parameters: {'n_neighbors': 76, 'weights': 'distance', 'algorithm': 'auto'}. Best is trial 22 with value: 0.87.\u001b[0m\n",
      "\u001b[32m[I 2021-11-20 22:44:46,708]\u001b[0m Trial 92 finished with value: 0.86 and parameters: {'n_neighbors': 74, 'weights': 'distance', 'algorithm': 'brute'}. Best is trial 22 with value: 0.87.\u001b[0m\n",
      "\u001b[32m[I 2021-11-20 22:44:46,881]\u001b[0m Trial 93 finished with value: 0.87 and parameters: {'n_neighbors': 67, 'weights': 'distance', 'algorithm': 'auto'}. Best is trial 22 with value: 0.87.\u001b[0m\n",
      "\u001b[32m[I 2021-11-20 22:44:47,043]\u001b[0m Trial 94 finished with value: 0.87 and parameters: {'n_neighbors': 80, 'weights': 'distance', 'algorithm': 'brute'}. Best is trial 22 with value: 0.87.\u001b[0m\n",
      "\u001b[32m[I 2021-11-20 22:44:47,211]\u001b[0m Trial 95 finished with value: 0.86 and parameters: {'n_neighbors': 62, 'weights': 'distance', 'algorithm': 'brute'}. Best is trial 22 with value: 0.87.\u001b[0m\n",
      "\u001b[32m[I 2021-11-20 22:44:47,346]\u001b[0m Trial 96 finished with value: 0.86 and parameters: {'n_neighbors': 30, 'weights': 'distance', 'algorithm': 'brute'}. Best is trial 22 with value: 0.87.\u001b[0m\n",
      "\u001b[32m[I 2021-11-20 22:44:47,507]\u001b[0m Trial 97 finished with value: 0.86 and parameters: {'n_neighbors': 77, 'weights': 'distance', 'algorithm': 'brute'}. Best is trial 22 with value: 0.87.\u001b[0m\n",
      "\u001b[32m[I 2021-11-20 22:44:47,677]\u001b[0m Trial 98 finished with value: 0.86 and parameters: {'n_neighbors': 87, 'weights': 'distance', 'algorithm': 'brute'}. Best is trial 22 with value: 0.87.\u001b[0m\n",
      "\u001b[32m[I 2021-11-20 22:44:47,824]\u001b[0m Trial 99 finished with value: 0.86 and parameters: {'n_neighbors': 67, 'weights': 'distance', 'algorithm': 'auto'}. Best is trial 22 with value: 0.87.\u001b[0m\n"
     ]
    },
    {
     "name": "stdout",
     "output_type": "stream",
     "text": [
      "Number of finished trials: 100\n",
      "Best trial:\n",
      "  Value: 0.87\n",
      "  Params: \n",
      "    n_neighbors: 89\n",
      "    weights: distance\n",
      "    algorithm: auto\n"
     ]
    }
   ],
   "source": [
    "study = optuna.create_study(direction=\"maximize\")\n",
    "study.optimize(objective, n_trials=100, timeout=300)\n",
    "\n",
    "print(\"Number of finished trials: {}\".format(len(study.trials)))\n",
    "\n",
    "print(\"Best trial:\")\n",
    "trial = study.best_trial\n",
    "\n",
    "print(\"  Value: {}\".format(trial.value))\n",
    "\n",
    "print(\"  Params: \")\n",
    "for key, value in trial.params.items():\n",
    "    print(\"    {}: {}\".format(key, value))"
   ]
  },
  {
   "cell_type": "code",
   "execution_count": 392,
   "id": "d754efad",
   "metadata": {},
   "outputs": [],
   "source": [
    "# import plotly\n",
    "# optuna.visualization.plot_optimization_history(study)\n",
    "# optuna.visualization.plot_slice(study)"
   ]
  },
  {
   "cell_type": "markdown",
   "id": "49362684",
   "metadata": {},
   "source": [
    "## Demo"
   ]
  },
  {
   "cell_type": "code",
   "execution_count": null,
   "id": "e24329ba",
   "metadata": {},
   "outputs": [],
   "source": [
    "import joblib\n",
    "from sklearn.ensemble import RandomForestClassifier\n",
    "import pandas as pd\n",
    "import numpy as np\n",
    "\n",
    "def predict_heart_disease(reports):\n",
    "    Age=reports[0][0]\n",
    "    RestingBP=reports[0][3]\n",
    "    Cholesterol=reports[0][4]\n",
    "    FastingBS=reports[0][5]\n",
    "    MaxHR=reports[0][7]\n",
    "    Oldpeak=reports[0][9]\n",
    "    Sex_F=0\n",
    "    Sex_M=0\n",
    "    ChestPainType_ASY=0\n",
    "    ChestPainType_ATA=0\n",
    "    ChestPainType_NAP=0\n",
    "    ChestPainType_TA=0\n",
    "    RestingECG_LVH=0\n",
    "    RestingECG_Normal=0\n",
    "    RestingECG_ST=0\n",
    "    ExerciseAngina_N=0\n",
    "    ExerciseAngina_Y=0\n",
    "    ST_Slope_Down=0\n",
    "    ST_Slope_Flat=0\n",
    "    ST_Slope_Up=0\n",
    "    \n",
    "    if reports[0][1]=='M':\n",
    "        Sex_M=1\n",
    "    else:\n",
    "        Sex_F=1\n",
    "    \n",
    "    if reports[0][2]=='ASY':\n",
    "        ChestPainType_ASY=1\n",
    "    elif reports[0][2]=='ATA':\n",
    "        ChestPainType_ATA=1\n",
    "    elif reports[0][2]=='NAP':\n",
    "        ChestPainType_NAP=1\n",
    "    else:\n",
    "        ChestPainType_TA=1\n",
    "    \n",
    "    if reports[0][6]=='LVH':\n",
    "        RestingECG_LVH=1\n",
    "    elif reports[0][6]=='Normal':\n",
    "        RestingECG_Normal=1\n",
    "    else:\n",
    "        RestingECG_ST=1\n",
    "    \n",
    "    if reports[0][8]=='Y':\n",
    "        ExerciseAngina_Y=1\n",
    "    else:\n",
    "        ExerciseAngina_N=1\n",
    "    \n",
    "    if reports[0][10]=='Up':\n",
    "        ST_Slope_Up=1\n",
    "    elif reports[0][10]=='Down':\n",
    "        ST_Slope_Down=1\n",
    "    else:\n",
    "        ST_Slope_Flat=1\n",
    "    \n",
    "    new_reports=[[Age,RestingBP,Cholesterol,FastingBS,MaxHR,Oldpeak,Sex_F,Sex_M,ChestPainType_ASY,ChestPainType_ATA,ChestPainType_NAP,ChestPainType_TA,RestingECG_LVH,RestingECG_Normal,RestingECG_ST,ExerciseAngina_N,ExerciseAngina_Y,ST_Slope_Down,ST_Slope_Flat,ST_Slope_Up]]\n",
    "    \n",
    "    df_reports=pd.DataFrame(new_reports,columns=['A','B','C','D','E','F','G','H','I','J','K','L','M','N','O','P','Q','R','S','T'])\n",
    "    \n",
    "    demo_feature_array = np.array(df_reports)\n",
    "    \n",
    "    rf_clf_loaded = joblib.load('saved_model_rf_clf.pkl')\n",
    "    \n",
    "    demo_prediction = rf_clf_loaded.predict(demo_feature_array)\n",
    "    \n",
    "    chances_0 = round(rf_clf_loaded.predict_proba(demo_feature_array)[0][0],2)*100\n",
    "    chances_1 = round(rf_clf_loaded.predict_proba(demo_feature_array)[0][1],2)*100\n",
    "    \n",
    "    if demo_prediction[0]==0:\n",
    "        prediction=\"The patient does not have a heart disease\"\n",
    "    elif demo_prediction[0]==1:\n",
    "        prediction=\"The patient have a heart disease, and the chances are \"+str(chances_1)+\" %\"\n",
    "    return prediction"
   ]
  },
  {
   "cell_type": "code",
   "execution_count": 5,
   "id": "10e32bc7",
   "metadata": {},
   "outputs": [
    {
     "data": {
      "text/plain": [
       "'The patient does not have a heart disease'"
      ]
     },
     "execution_count": 5,
     "metadata": {},
     "output_type": "execute_result"
    }
   ],
   "source": [
    "# Enter the Values from the test reports of the patient:\n",
    "\n",
    "Age = 25\n",
    "Sex = 'F'\n",
    "ChestPainType = 'TA'\n",
    "RestingBP = 120\n",
    "Cholesterol = 150\n",
    "FastingBS = 0\n",
    "RestingECG = 'Normal'\n",
    "MaxHR = 108\n",
    "ExerciseAngina = 'N'\n",
    "Oldpeak = 1\n",
    "ST_Slope = 'Down'\n",
    "\n",
    "reports = [[Age,Sex,ChestPainType,RestingBP,Cholesterol,FastingBS,RestingECG,MaxHR,ExerciseAngina,Oldpeak,ST_Slope]]\n",
    "\n",
    "prediction = predict_heart_disease(reports)\n",
    "prediction"
   ]
  },
  {
   "cell_type": "code",
   "execution_count": 1,
   "id": "d83137df",
   "metadata": {},
   "outputs": [],
   "source": []
  }
 ],
 "metadata": {
  "kernelspec": {
   "display_name": "Python 3",
   "language": "python",
   "name": "python3"
  },
  "language_info": {
   "codemirror_mode": {
    "name": "ipython",
    "version": 3
   },
   "file_extension": ".py",
   "mimetype": "text/x-python",
   "name": "python",
   "nbconvert_exporter": "python",
   "pygments_lexer": "ipython3",
   "version": "3.8.8"
  }
 },
 "nbformat": 4,
 "nbformat_minor": 5
}
